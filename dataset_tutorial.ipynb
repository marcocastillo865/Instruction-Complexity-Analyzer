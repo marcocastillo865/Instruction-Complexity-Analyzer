{
 "cells": [
  {
   "cell_type": "code",
   "execution_count": 1,
   "id": "7463d4b2-5352-45f0-86cb-125c883249f9",
   "metadata": {},
   "outputs": [],
   "source": [
    "! pip install -q wikihowunofficialapi"
   ]
  },
  {
   "cell_type": "code",
   "execution_count": 2,
   "id": "d24652f1-1ca5-4847-9119-3454ba0cefd4",
   "metadata": {},
   "outputs": [],
   "source": [
    "import pandas as pd\n",
    "import wikihowunofficialapi as wha"
   ]
  },
  {
   "cell_type": "code",
   "execution_count": 3,
   "id": "513de1c6-472c-44c3-b7b1-87806cbc5ba1",
   "metadata": {},
   "outputs": [
    {
     "data": {
      "text/html": [
       "<div>\n",
       "<style scoped>\n",
       "    .dataframe tbody tr th:only-of-type {\n",
       "        vertical-align: middle;\n",
       "    }\n",
       "\n",
       "    .dataframe tbody tr th {\n",
       "        vertical-align: top;\n",
       "    }\n",
       "\n",
       "    .dataframe thead th {\n",
       "        text-align: right;\n",
       "    }\n",
       "</style>\n",
       "<table border=\"1\" class=\"dataframe\">\n",
       "  <thead>\n",
       "    <tr style=\"text-align: right;\">\n",
       "      <th></th>\n",
       "      <th>info</th>\n",
       "    </tr>\n",
       "  </thead>\n",
       "  <tbody>\n",
       "    <tr>\n",
       "      <th>0</th>\n",
       "      <td>How to Get Rid of Acne Scars on Your Chest</td>\n",
       "    </tr>\n",
       "    <tr>\n",
       "      <th>1</th>\n",
       "      <td>How to Get a Copy of Your Approved I‐140 Notice</td>\n",
       "    </tr>\n",
       "    <tr>\n",
       "      <th>2</th>\n",
       "      <td>How to Get Sweat Stains out of Clothing</td>\n",
       "    </tr>\n",
       "    <tr>\n",
       "      <th>3</th>\n",
       "      <td>How to Recognize the Warning Signs of a Stroke</td>\n",
       "    </tr>\n",
       "    <tr>\n",
       "      <th>4</th>\n",
       "      <td>How to Manage a Restaurant</td>\n",
       "    </tr>\n",
       "  </tbody>\n",
       "</table>\n",
       "</div>"
      ],
      "text/plain": [
       "                                              info\n",
       "0       How to Get Rid of Acne Scars on Your Chest\n",
       "1  How to Get a Copy of Your Approved I‐140 Notice\n",
       "2          How to Get Sweat Stains out of Clothing\n",
       "3   How to Recognize the Warning Signs of a Stroke\n",
       "4                       How to Manage a Restaurant"
      ]
     },
     "execution_count": 3,
     "metadata": {},
     "output_type": "execute_result"
    }
   ],
   "source": [
    "data = pd.read_pickle('wikihow.pickle')\n",
    "data.head()"
   ]
  },
  {
   "cell_type": "code",
   "execution_count": 4,
   "id": "79e947a6-621a-483a-914f-79f8025cbe62",
   "metadata": {},
   "outputs": [],
   "source": [
    "article = data.loc[1, 'info']"
   ]
  },
  {
   "cell_type": "code",
   "execution_count": 5,
   "id": "9c003980-090b-4f4c-b211-1ec099805742",
   "metadata": {},
   "outputs": [
    {
     "name": "stdout",
     "output_type": "stream",
     "text": [
      "https://www.wikihow.com/Get-a-Copy-of-Your-Approved-I%E2%80%90140-Notice\n",
      "How to Get a Copy of Your Approved I‐140 Notice\n",
      "When your Form I-140 petition is approved, you will receive a Form I-797 Notice of Action. You can get a copy of this notice by sending a request to the United States Citizenship and Immigration Services (USCIS) department. However, you might want a copy of the Form I-140 petition itself. In this situation, you will need to make a Freedom of Information Act (FOIA) request to USCIS.\n",
      "2\n",
      "[1 - Requesting a Copy of Your Approval Notice, 2 - Obtaining a Copy of the Form I-140 Petition]\n",
      "19\n",
      "99\n",
      "True\n",
      "2019-10-02 00:00:00\n",
      "77370\n",
      "3\n",
      "16\n",
      "To get a copy of your approved I-140 notice, ask your employer, since they originally filed the form to sponsor you as an immigrant worker. If they refuse to give you a copy for any reason, you can file a Freedom of Information Act request. To do this, download form G-639 from the Department of Homeland Security website. Fill in the form and send it to the address provided. Generally it can take USCIS a month to process your request. However, if you need to speed up the process, for removal proceedings for example, include a letter explaining that you need it expedited and why. For more tips from our Legal co-author, including how to request a copy of your approval notice, read on.\n",
      "[]\n",
      "['You should consult with an immigration attorney if you have questions about getting immigration records. Some people get a copy of Form I-140 when what they need is a copy of Form I-797. Check with an immigration attorney to identify what form you need.\\n']\n",
      "1 - Download Form I-824.\n",
      "Download Form I-824.\n",
      "This is the form you need to fill out to get a copy of your Form I-797 Notice of Action. The form is available for download from the United States Citizenship and Immigration Services (USCIS) website. You should download it in PDF format and also get a copy of the instructions.\n",
      "\n",
      "You can also request a form by calling 1-800-375-5283.\n",
      "You cannot use this form if your approval notice has expired or been revoked.\n"
     ]
    }
   ],
   "source": [
    "print(article.url) # Print Article's URL\n",
    "print(article.title) # Print Article's Title\n",
    "print(article.intro) # Print Article's Introduction\n",
    "print(article.n_methods) # Print number of methods in an Article\n",
    "print(article.methods) # Print a list of methods in an Article\n",
    "print(article.num_votes) # Print number of votes given to an Article\n",
    "print(article.percent_helpful) # Print percentage of helpful votes given to an Article\n",
    "print(article.is_expert) # Print True if the Article is written by an expert\n",
    "print(article.last_updated) # Print date when the Article was last updated\n",
    "print(article.views) # Print the number of views recieved by Article\n",
    "print(article.co_authors) # Print the number of co-authors of an Article\n",
    "print(article.references) # Print the number of references in an Article\n",
    "print(article.summary) # Print Article's summary\n",
    "print(article.warnings) # Print Article's warnings\n",
    "print(article.tips) # Print Article's tips\n",
    "\n",
    "first_method = article.methods[0]\n",
    "first_step = first_method.steps[0]\n",
    "print(first_step) # Print Article's first step of the first method\n",
    "print(first_step.title) # Print the title of Article's first step of the first method\n",
    "print(first_step.description) # Print the description of Article's first step of the first method"
   ]
  },
  {
   "cell_type": "code",
   "execution_count": null,
   "id": "902f1730-45cf-437d-9741-1aca0e55f6a0",
   "metadata": {},
   "outputs": [],
   "source": []
  }
 ],
 "metadata": {
  "kernelspec": {
   "display_name": "Python 3 (ipykernel)",
   "language": "python",
   "name": "python3"
  },
  "language_info": {
   "codemirror_mode": {
    "name": "ipython",
    "version": 3
   },
   "file_extension": ".py",
   "mimetype": "text/x-python",
   "name": "python",
   "nbconvert_exporter": "python",
   "pygments_lexer": "ipython3",
   "version": "3.12.9"
  }
 },
 "nbformat": 4,
 "nbformat_minor": 5
}
